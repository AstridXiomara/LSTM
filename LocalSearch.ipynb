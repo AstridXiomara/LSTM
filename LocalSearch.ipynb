{
  "nbformat": 4,
  "nbformat_minor": 0,
  "metadata": {
    "colab": {
      "provenance": [],
      "authorship_tag": "ABX9TyOBNAqIvTkLoXgPxn/DcCP9",
      "include_colab_link": true
    },
    "kernelspec": {
      "name": "python3",
      "display_name": "Python 3"
    },
    "language_info": {
      "name": "python"
    }
  },
  "cells": [
    {
      "cell_type": "markdown",
      "metadata": {
        "id": "view-in-github",
        "colab_type": "text"
      },
      "source": [
        "<a href=\"https://colab.research.google.com/github/AstridXiomara/LSTM/blob/main/LocalSearch.ipynb\" target=\"_parent\"><img src=\"https://colab.research.google.com/assets/colab-badge.svg\" alt=\"Open In Colab\"/></a>"
      ]
    },
    {
      "cell_type": "markdown",
      "source": [
        "## LIBRERIAS"
      ],
      "metadata": {
        "id": "IAD52TFzlXvZ"
      }
    },
    {
      "cell_type": "code",
      "source": [
        "import numpy as np\n",
        "import pandas as pd\n",
        "from numpy import array\n",
        "from numpy import hstack\n",
        "import matplotlib.pyplot as plt\n",
        "import datetime\n",
        "import math"
      ],
      "metadata": {
        "id": "HYoz6nwVlunh"
      },
      "execution_count": 5,
      "outputs": []
    },
    {
      "cell_type": "code",
      "source": [
        "from keras.models import Sequential\n",
        "from keras.layers import LSTM\n",
        "from keras.layers import Dense\n",
        "from keras.layers import Bidirectional\n",
        "from keras.layers import Flatten\n",
        "from keras.layers import TimeDistributed\n",
        "from keras.layers.convolutional import Conv1D\n",
        "from keras.layers.convolutional import MaxPooling1D\n",
        "from keras.layers import ConvLSTM2D\n",
        "from keras.layers import RepeatVector\n",
        "from keras.layers import TimeDistributed\n",
        "from sklearn.metrics import mean_squared_error\n"
      ],
      "metadata": {
        "id": "hJ5c12sry4tT"
      },
      "execution_count": 6,
      "outputs": []
    },
    {
      "cell_type": "markdown",
      "source": [
        "## Funciones LSTM"
      ],
      "metadata": {
        "id": "IejYfsO0B7XM"
      }
    },
    {
      "cell_type": "markdown",
      "source": [
        "### LSTM"
      ],
      "metadata": {
        "id": "-1Aeoe-zoQQX"
      }
    },
    {
      "cell_type": "markdown",
      "source": [
        "#### Preparar Data"
      ],
      "metadata": {
        "id": "03Eo9hYJrcyE"
      }
    },
    {
      "cell_type": "code",
      "source": [
        "# Divide el dataset en subsets train/test.\n",
        "def train_test_split(data, n_test):\n",
        "    return data[:-n_test,:], data[-n_test:,:]"
      ],
      "metadata": {
        "id": "qwVPpVyZe7fx"
      },
      "execution_count": null,
      "outputs": []
    },
    {
      "cell_type": "code",
      "source": [
        "def split_sequences(sequences, n_steps_in, n_steps_out):\n",
        "\tX, y = list(), list()\n",
        "\tfor i in range(len(sequences)):\n",
        "\t\t# find the end of this pattern\n",
        "\t\tend_ix = i + n_steps_in\n",
        "\t\tout_end_ix = end_ix + n_steps_out-1\n",
        "\t\t# check if we are beyond the dataset\n",
        "\t\tif out_end_ix > len(sequences):\n",
        "\t\t\tbreak\n",
        "\t\t# gather input and output parts of the pattern\n",
        "\t\tseq_x, seq_y = sequences[i:end_ix, :-1], sequences[end_ix-1:out_end_ix, -1]\n",
        "\t\tX.append(seq_x)\n",
        "\t\ty.append(seq_y)\n",
        "\treturn array(X), array(y)"
      ],
      "metadata": {
        "id": "qnJONy57HZli"
      },
      "execution_count": null,
      "outputs": []
    },
    {
      "cell_type": "markdown",
      "source": [
        "#### Vanilla, Stacked, Bidirectional, Encoder"
      ],
      "metadata": {
        "id": "0DfNPiNirhY4"
      }
    },
    {
      "cell_type": "code",
      "source": [
        "# Modelo\n",
        "\n",
        "def modelo(data, parametros):\n",
        "  \n",
        "  LSTM_model, nodes, activacion, n_steps_in, n_features, n_steps_out, optimizador, perdidas, epocas, n_test=parametros\n",
        "  \n",
        "  train, test = train_test_split(data, n_test)\n",
        "  x_train, y_train = split_sequences(train, n_steps_in,n_steps_out)\n",
        "  x_test, y_test = split_sequences(test, n_steps_in,n_steps_out)\n",
        "  \n",
        "  #modelo\n",
        "  if LSTM_model==\"Vanilla\":\n",
        "    # define model\n",
        "    model = Sequential()\n",
        "    #Number of LSTM in hidden layer=50\n",
        "    model.add(LSTM(nodes, activation=activacion, input_shape=(n_steps_in, n_features)))\n",
        "    model.add(Dense(n_steps_out))\n",
        "    model.compile(optimizer=optimizador, loss=perdidas)\n",
        "  elif LSTM_model==\"Stacked\":\n",
        "    # define model\n",
        "    model = Sequential()\n",
        "    model.add(LSTM(nodes, activation=activacion, return_sequences=True, input_shape=(n_steps_in, n_features)))\n",
        "    model.add(LSTM(nodes, activation=activacion))\n",
        "    model.add(Dense(n_steps_out))\n",
        "    model.compile(optimizer=optimizador, loss=perdidas)\n",
        "  elif LSTM_model==\"Bidirectional\":\n",
        "    # define model\n",
        "    model = Sequential()\n",
        "    model.add(Bidirectional(LSTM(nodes, activation=activacion), input_shape=(n_steps_in, n_features)))\n",
        "    model.add(Dense(n_steps_out))\n",
        "    model.compile(optimizer=optimizador, loss=perdidas)\n",
        "  elif LSTM_model==\"Encoder-Decoder\":\n",
        "    model = Sequential()\n",
        "    model.add(LSTM(nodes, activation=activacion, input_shape=(n_steps_in, n_features)))\n",
        "    model.add(RepeatVector(n_steps_out))\n",
        "    model.add(LSTM(nodes, activation=activacion, return_sequences=True))\n",
        "    model.add(TimeDistributed(Dense(n_steps_out)))\n",
        "    model.compile(optimizer=optimizador, loss=perdidas)\n",
        "  # fit model\n",
        "  model.fit(x_train, y_train, epochs=epocas, verbose=0)\n",
        "\n",
        "  #Prediccion\n",
        "  yhat=np.zeros(len(y_test))\n",
        "  for i in range (0, len(y_test)):\n",
        "    # demonstrate prediction\n",
        "    x_input = array(x_test[i,:,:])\n",
        "    x_input = x_input.reshape((1, n_steps_in, n_features))\n",
        "    yhat[i] = model.predict(x_input, verbose=0)\n",
        "\n",
        "  RMSE = math.sqrt(mean_squared_error(y_test, yhat))\n",
        "  return y_test,yhat, RMSE"
      ],
      "metadata": {
        "id": "TCkhGN2fCbVA"
      },
      "execution_count": null,
      "outputs": []
    },
    {
      "cell_type": "markdown",
      "source": [
        "#### CNN LSTM"
      ],
      "metadata": {
        "id": "_JFA_HVFrprh"
      }
    },
    {
      "cell_type": "code",
      "source": [
        "#CNN\n",
        "def CNN_LSTM(data, parametros):\n",
        "\n",
        "  LSTM_model, nodes, activacion, n_steps_in, n_features, n_steps_out, optimizador, perdidas, epocas, n_test, n_seq, n_steps, filtros, kernelsize =parametros\n",
        "  \n",
        "  train, test = train_test_split(data, n_test)\n",
        "  x_train, y_train = split_sequences(train, n_steps_in, n_steps_out)\n",
        "  x_test, y_test = split_sequences(test, n_steps_in, n_steps_out)\n",
        "  \n",
        "  X = x_train.reshape((x_train.shape[0], n_seq, n_steps, n_features))\n",
        "\n",
        "  # define model\n",
        "  model = Sequential()\n",
        "  model.add(TimeDistributed(Conv1D(filters=filtros, kernel_size=kernelsize, activation=activacion), input_shape=(None, n_steps, n_features)))\n",
        "  model.add(TimeDistributed(MaxPooling1D(pool_size=2)))\n",
        "  model.add(TimeDistributed(Flatten()))\n",
        "  if LSTM_model==\"Vanilla\":\n",
        "    # define model\n",
        "    #Number of LSTM in hidden layer=50\n",
        "    model.add(LSTM(nodes, activation=activacion))\n",
        "    model.add(Dense(n_steps_out))\n",
        "    model.compile(optimizer=optimizador, loss=perdidas)\n",
        "  elif LSTM_model==\"Stacked\":\n",
        "    # define model\n",
        "    model.add(LSTM(nodes, activation=activacion, return_sequences=True))\n",
        "    model.add(LSTM(nodes, activation=activacion))\n",
        "    model.add(Dense(n_steps_out))\n",
        "    model.compile(optimizer=optimizador, loss=perdidas)\n",
        "  elif LSTM_model==\"Bidirectional\":\n",
        "    # define model\n",
        "    model.add(Bidirectional(LSTM(nodes, activation=activacion)))\n",
        "    model.add(Dense(n_steps_out))\n",
        "    model.compile(optimizer=optimizador, loss=perdidas)\n",
        "\n",
        "  # fit model\n",
        "  model.fit(X, y_train, epochs=epocas, verbose=0)\n",
        "\n",
        "  X2 = x_test.reshape((x_test.shape[0], n_seq, n_steps, n_features))\n",
        "  yhat=np.zeros(len(y_test))\n",
        "  for i in range (0, len(y_test)):\n",
        "    x_input = array(X2[i,:,:])\n",
        "    x_input = x_input.reshape((1, n_seq, n_steps, n_features))\n",
        "    yhat[i] = model.predict(x_input, verbose=0)\n",
        "  \n",
        "  RMSE=math.sqrt(mean_squared_error(y_test, yhat))\n",
        "  #RMSE = math.sqrt(mean_squared_error( y_test, yhat))\n",
        "  return (y_test, yhat, RMSE)\n"
      ],
      "metadata": {
        "id": "bFSMQAWy8BtY"
      },
      "execution_count": null,
      "outputs": []
    },
    {
      "cell_type": "markdown",
      "source": [
        "#### Conv LSTM"
      ],
      "metadata": {
        "id": "EwCxqvaCrt0R"
      }
    },
    {
      "cell_type": "code",
      "source": [
        "def Conv_LSTM(data, parametros):\n",
        "  \n",
        "  nodes, activacion, n_steps_in, n_features, n_steps_out, optimizador, perdidas, epocas, n_test, n_seq, n_steps, filtros=parametros\n",
        "  \n",
        "  train, test = train_test_split(data, n_test)\n",
        "  x_train, y_train = split_sequences(train, n_steps_in, n_steps_out)\n",
        "  x_test, y_test = split_sequences(test, n_steps_in, n_steps_out)\n",
        "  \n",
        "  X = x_train.reshape((x_train.shape[0], n_seq, 1, n_steps, n_features))\n",
        "\n",
        "  # define model\n",
        "  model = Sequential()\n",
        "  model.add(ConvLSTM2D(filters=filtros, kernel_size=(1,2), activation=activacion, input_shape=(n_seq, 1, n_steps, n_features)))\n",
        "  model.add(Flatten())\n",
        "  model.add(Dense(n_steps_out))\n",
        "  model.compile(optimizer=optimizador, loss=perdidas)\n",
        "\n",
        "  # fit model\n",
        "  model.fit(X, y_train, epochs=epocas, verbose=0)\n",
        "\n",
        "  yhat=np.zeros(len(y_test))\n",
        "  for i in range (0, len(y_test)):\n",
        "    x_input = array(x_test[i,:,:])\n",
        "    x_input = x_input.reshape((1, n_seq, 1, n_steps, n_features))\n",
        "    yhat[i] = model.predict(x_input, verbose=0)\n",
        "  \n",
        "  RMSE=math.sqrt(mean_squared_error(y_test, yhat))\n",
        "  return (y_test, yhat, RMSE)\n"
      ],
      "metadata": {
        "id": "lDbf93Aadq2K"
      },
      "execution_count": null,
      "outputs": []
    },
    {
      "cell_type": "markdown",
      "source": [],
      "metadata": {
        "id": "I905vM5DYBcE"
      }
    },
    {
      "cell_type": "markdown",
      "source": [
        "### VPN"
      ],
      "metadata": {
        "id": "Kc0HXJz_od3G"
      }
    },
    {
      "cell_type": "code",
      "source": [
        "def VPN(qo,qw,Qw,t, wells, PO, PE, Transp, LC, WD, WT, CE, TRM, Taxes, Royal, TEA):\n",
        "    oil=np.zeros(t)\n",
        "    water=np.zeros(t)\n",
        "    income=np.zeros(t)\n",
        "    cost=np.zeros(t)\n",
        "    gross=np.zeros(t)\n",
        "    net=np.zeros(t)\n",
        "    Valor=np.zeros(t)\n",
        "    NPV=0\n",
        "    for j in range(0,t):\n",
        "        for i in range[0,wells]:\n",
        "            oil[j]+=qo[j,i]\n",
        "            water[j]+=qw[j,i]\n",
        "        income[j]= oil[j]*PO[j]*15\n",
        "        cost[j]  = (oil[j]*(LC+Transp)+\n",
        "                    water[j]*WD +\n",
        "                    Qw[j]*WT+\n",
        "                    CE*PE[j]*24/TRM)*15\n",
        "        gross[j]=(income[j]-cost[j])*[1-Royal]\n",
        "        net[j]=gross[j]*(1-Taxes)\n",
        "        Valor[j]=net[j]*np.exp(-TEA*j/24)\n",
        "        NPV+=Valor[j]\n",
        "    return NPV"
      ],
      "metadata": {
        "id": "zcz8YY0kohrX"
      },
      "execution_count": null,
      "outputs": []
    },
    {
      "cell_type": "markdown",
      "source": [
        "### Local Search"
      ],
      "metadata": {
        "id": "9Ri44HiHpXdm"
      }
    },
    {
      "cell_type": "code",
      "source": [
        "def LocalSearch(Presion, Qw, Wells, t, DeltaP, DeltaQ):\n",
        "  qo,qw=LSTM(Presion, Qw, Wells, t)"
      ],
      "metadata": {
        "id": "A6gfvpcDpfLH"
      },
      "execution_count": null,
      "outputs": []
    },
    {
      "cell_type": "code",
      "source": [
        "##Optimos\n",
        "Oil_well_1=\"Encoder-Decoder\",          209, \"linear\", 7, 5, 1, \"adam\", \"mse\", 460,24\n",
        "y_test, y1, RMSE1=modelo(data_interes, parametros1)\n",
        "\n",
        "parametros5= \"Vanilla\",         272, \"sigmoid\", 8, 5, 1, \"adam\", \"mse\", 280,24, 2, 4, 87, 1\n",
        "y_test, y5, RMSE5=CNN_LSTM(data_interes, parametros5)\n",
        "\n",
        "parametros8=                    257, \"sigmoid\", 8, 5, 1, \"adam\", \"mse\", 447,24, 2, 4, 175\n",
        "y_test, y8, RMSE8=Conv_LSTM(data_interes, parametros8)\n",
        "\n",
        "y_test, y1, RMSE1, y5, RMSE5, y8, RMSE8"
      ],
      "metadata": {
        "id": "uo2GfD9uu5H1"
      },
      "execution_count": null,
      "outputs": []
    }
  ]
}